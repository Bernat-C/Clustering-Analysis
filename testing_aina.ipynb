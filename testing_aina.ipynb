{
 "cells": [
  {
   "cell_type": "code",
   "id": "initial_id",
   "metadata": {
    "collapsed": true,
    "ExecuteTime": {
     "end_time": "2024-11-30T22:27:50.767033Z",
     "start_time": "2024-11-30T22:27:50.723644Z"
    }
   },
   "source": [
    "%load_ext autoreload\n",
    "%autoreload 2"
   ],
   "outputs": [],
   "execution_count": 1
  },
  {
   "metadata": {
    "ExecuteTime": {
     "end_time": "2024-11-30T22:27:51.777328Z",
     "start_time": "2024-11-30T22:27:51.722332Z"
    }
   },
   "cell_type": "code",
   "source": "%cd code",
   "id": "bab6d7eff7a399ba",
   "outputs": [
    {
     "name": "stdout",
     "output_type": "stream",
     "text": [
      "C:\\Users\\ainal\\OneDrive\\Escritorio\\IML\\clusteringmethods\\code\n"
     ]
    }
   ],
   "execution_count": 2
  },
  {
   "metadata": {
    "ExecuteTime": {
     "end_time": "2024-11-30T23:10:02.077196Z",
     "start_time": "2024-11-30T23:10:01.972200Z"
    }
   },
   "cell_type": "code",
   "source": [
    "from optics import apply_optics\n",
    "from preprocessing import preprocess_sick, preprocess_grid, preprocess_vowel\n",
    "from utils import plot_clusters\n",
    "import numpy as np\n",
    "from scipy.io.arff import loadarff\n",
    "import pandas as pd\n",
    "from metrics import davies_bouldin_index\n",
    "from metrics import silhouette_coefficient\n",
    "from metrics import adjusted_rand_index\n",
    "from metrics import purity_score\n",
    "from metrics import f_measure"
   ],
   "id": "862b1f30c77c13d9",
   "outputs": [],
   "execution_count": 11
  },
  {
   "metadata": {
    "ExecuteTime": {
     "end_time": "2024-12-01T16:20:35.293204Z",
     "start_time": "2024-12-01T16:20:35.279197Z"
    }
   },
   "cell_type": "code",
   "source": [
    "def get_metrics_optics(X, y, labels_pred, dist, algorithm, xi, min_samples):\n",
    "    if len(np.unique(labels_pred)) > 1:\n",
    "        # Compute metrics\n",
    "        dbi = davies_bouldin_index(X, labels_pred)\n",
    "        silhouette = silhouette_coefficient(X, labels_pred)\n",
    "    \n",
    "        ari = adjusted_rand_index(y, labels_pred)\n",
    "        purity = purity_score(y, labels_pred)\n",
    "        fmeasure = f_measure(y, labels_pred)\n",
    "        \n",
    "        # Append results\n",
    "        results = {\n",
    "            \"algorithm\": algorithm,\n",
    "            \"distance\": dist,\n",
    "            \"xi\": xi,\n",
    "            \"min_samples\": min_samples,\n",
    "            \"k\" : np.unique(labels_pred),\n",
    "            \"ARI\": ari,\n",
    "            \"Purity\": purity,\n",
    "            \"F-Measure\": fmeasure,\n",
    "            \"Davies-Bouldin Index\": dbi,\n",
    "            \"Silhouette Coefficient\": silhouette\n",
    "        }\n",
    "    else:\n",
    "        results = {\n",
    "            \"algorithm\": algorithm,\n",
    "            \"distance\": dist,\n",
    "            \"xi\": xi,\n",
    "            \"min_samples\": min_samples,\n",
    "            \"k\" : np.unique(labels_pred),\n",
    "            \"ARI\": np.nan,\n",
    "            \"Purity\": np.nan,\n",
    "            \"F-Measure\": np.nan,\n",
    "            \"Davies-Bouldin Index\": np.nan,\n",
    "            \"Silhouette Coefficient\": np.nan}\n",
    "    return results"
   ],
   "id": "c46ba89e3fb01f9c",
   "outputs": [
    {
     "ename": "SyntaxError",
     "evalue": "invalid syntax (3277133029.py, line 17)",
     "output_type": "error",
     "traceback": [
      "\u001B[1;36m  Cell \u001B[1;32mIn[1], line 17\u001B[1;36m\u001B[0m\n\u001B[1;33m    \"k\" = np.unique(labels_pred),\u001B[0m\n\u001B[1;37m        ^\u001B[0m\n\u001B[1;31mSyntaxError\u001B[0m\u001B[1;31m:\u001B[0m invalid syntax\n"
     ]
    }
   ],
   "execution_count": 1
  },
  {
   "metadata": {
    "ExecuteTime": {
     "end_time": "2024-11-30T23:28:18.866157Z",
     "start_time": "2024-11-30T23:28:18.762931Z"
    }
   },
   "cell_type": "code",
   "source": [
    "def get_all_optics(dataX, dataY):\n",
    "    res = []\n",
    "    for metric in ['euclidean', 'manhattan', 'minkowski']:\n",
    "        for algorithm in ['kd_tree', 'ball_tree']:\n",
    "            for xi in [0.05,0.1]:\n",
    "                for min_sample in [5,15]:\n",
    "                    labels = apply_optics(dataX, metric, algorithm, xi, min_sample)\n",
    "                    metrics = get_metrics_optics(dataX, dataY, labels, metric, algorithm, xi, min_sample)\n",
    "                    res.append(metrics)\n",
    "    return res                \n"
   ],
   "id": "dfcb22490348c049",
   "outputs": [],
   "execution_count": 31
  },
  {
   "metadata": {
    "ExecuteTime": {
     "end_time": "2024-11-30T23:28:59.985732Z",
     "start_time": "2024-11-30T23:28:20.925Z"
    }
   },
   "cell_type": "code",
   "source": [
    "df = pd.read_csv('../datasets_processed/grid.csv')\n",
    "df_X = np.array(df[df.columns[:-1]])\n",
    "df_y = np.array(df[df.columns[-1]])\n",
    "\n",
    "resultados1 = get_all_optics(df_X, df_y)"
   ],
   "id": "69bb08614126f99f",
   "outputs": [],
   "execution_count": 32
  },
  {
   "metadata": {
    "ExecuteTime": {
     "end_time": "2024-11-30T23:30:10.921589Z",
     "start_time": "2024-11-30T23:30:10.802361Z"
    }
   },
   "cell_type": "code",
   "source": [
    "results_df = pd.DataFrame(resultados1)\n",
    "results_df.to_csv('../output/results_optics_grid.csv')"
   ],
   "id": "97b83e21a5f8ccef",
   "outputs": [],
   "execution_count": 35
  },
  {
   "metadata": {
    "ExecuteTime": {
     "end_time": "2024-11-30T23:34:44.538867Z",
     "start_time": "2024-11-30T23:32:52.625340Z"
    }
   },
   "cell_type": "code",
   "source": [
    "df = pd.read_csv('../datasets_processed/sick.csv')\n",
    "df_X = np.array(df[df.columns[:-1]])\n",
    "df_y = np.array(df[df.columns[-1]])\n",
    "\n",
    "resultados = get_all_optics(df_X, df_y)\n",
    "results_df = pd.DataFrame(resultados)\n",
    "results_df.to_csv('../output/results_optics_sick.csv')"
   ],
   "id": "9eb03f21a8c6ebf7",
   "outputs": [
    {
     "name": "stderr",
     "output_type": "stream",
     "text": [
      "C:\\Users\\ainal\\OneDrive\\Escritorio\\IML\\clusteringmethods\\.venv\\lib\\site-packages\\sklearn\\cluster\\_optics.py:1083: RuntimeWarning: divide by zero encountered in divide\n",
      "  ratio = reachability_plot[:-1] / reachability_plot[1:]\n",
      "C:\\Users\\ainal\\OneDrive\\Escritorio\\IML\\clusteringmethods\\.venv\\lib\\site-packages\\sklearn\\cluster\\_optics.py:1083: RuntimeWarning: divide by zero encountered in divide\n",
      "  ratio = reachability_plot[:-1] / reachability_plot[1:]\n",
      "C:\\Users\\ainal\\OneDrive\\Escritorio\\IML\\clusteringmethods\\.venv\\lib\\site-packages\\sklearn\\cluster\\_optics.py:1083: RuntimeWarning: divide by zero encountered in divide\n",
      "  ratio = reachability_plot[:-1] / reachability_plot[1:]\n",
      "C:\\Users\\ainal\\OneDrive\\Escritorio\\IML\\clusteringmethods\\.venv\\lib\\site-packages\\sklearn\\cluster\\_optics.py:1083: RuntimeWarning: divide by zero encountered in divide\n",
      "  ratio = reachability_plot[:-1] / reachability_plot[1:]\n",
      "C:\\Users\\ainal\\OneDrive\\Escritorio\\IML\\clusteringmethods\\.venv\\lib\\site-packages\\sklearn\\cluster\\_optics.py:1083: RuntimeWarning: divide by zero encountered in divide\n",
      "  ratio = reachability_plot[:-1] / reachability_plot[1:]\n",
      "C:\\Users\\ainal\\OneDrive\\Escritorio\\IML\\clusteringmethods\\.venv\\lib\\site-packages\\sklearn\\cluster\\_optics.py:1083: RuntimeWarning: divide by zero encountered in divide\n",
      "  ratio = reachability_plot[:-1] / reachability_plot[1:]\n",
      "C:\\Users\\ainal\\OneDrive\\Escritorio\\IML\\clusteringmethods\\.venv\\lib\\site-packages\\sklearn\\cluster\\_optics.py:1083: RuntimeWarning: divide by zero encountered in divide\n",
      "  ratio = reachability_plot[:-1] / reachability_plot[1:]\n",
      "C:\\Users\\ainal\\OneDrive\\Escritorio\\IML\\clusteringmethods\\.venv\\lib\\site-packages\\sklearn\\cluster\\_optics.py:1083: RuntimeWarning: divide by zero encountered in divide\n",
      "  ratio = reachability_plot[:-1] / reachability_plot[1:]\n",
      "C:\\Users\\ainal\\OneDrive\\Escritorio\\IML\\clusteringmethods\\.venv\\lib\\site-packages\\sklearn\\cluster\\_optics.py:1083: RuntimeWarning: divide by zero encountered in divide\n",
      "  ratio = reachability_plot[:-1] / reachability_plot[1:]\n",
      "C:\\Users\\ainal\\OneDrive\\Escritorio\\IML\\clusteringmethods\\.venv\\lib\\site-packages\\sklearn\\cluster\\_optics.py:1083: RuntimeWarning: divide by zero encountered in divide\n",
      "  ratio = reachability_plot[:-1] / reachability_plot[1:]\n",
      "C:\\Users\\ainal\\OneDrive\\Escritorio\\IML\\clusteringmethods\\.venv\\lib\\site-packages\\sklearn\\cluster\\_optics.py:1083: RuntimeWarning: divide by zero encountered in divide\n",
      "  ratio = reachability_plot[:-1] / reachability_plot[1:]\n",
      "C:\\Users\\ainal\\OneDrive\\Escritorio\\IML\\clusteringmethods\\.venv\\lib\\site-packages\\sklearn\\cluster\\_optics.py:1083: RuntimeWarning: divide by zero encountered in divide\n",
      "  ratio = reachability_plot[:-1] / reachability_plot[1:]\n"
     ]
    }
   ],
   "execution_count": 36
  },
  {
   "metadata": {
    "ExecuteTime": {
     "end_time": "2024-11-30T23:35:04.851869Z",
     "start_time": "2024-11-30T23:34:44.549865Z"
    }
   },
   "cell_type": "code",
   "source": [
    "df = pd.read_csv('../datasets_processed/vowel.csv')\n",
    "df_X = np.array(df[df.columns[:-1]])\n",
    "df_y = np.array(df[df.columns[-1]])\n",
    "\n",
    "resultados = get_all_optics(df_X, df_y)\n",
    "results_df = pd.DataFrame(resultados)\n",
    "results_df.to_csv('../output/results_optics_vowel.csv')"
   ],
   "id": "174aa175842b06d2",
   "outputs": [],
   "execution_count": 37
  }
 ],
 "metadata": {
  "kernelspec": {
   "display_name": "Python 3",
   "language": "python",
   "name": "python3"
  },
  "language_info": {
   "codemirror_mode": {
    "name": "ipython",
    "version": 2
   },
   "file_extension": ".py",
   "mimetype": "text/x-python",
   "name": "python",
   "nbconvert_exporter": "python",
   "pygments_lexer": "ipython2",
   "version": "2.7.6"
  }
 },
 "nbformat": 4,
 "nbformat_minor": 5
}
