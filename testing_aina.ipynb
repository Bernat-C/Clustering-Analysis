{
 "cells": [
  {
   "cell_type": "code",
   "id": "initial_id",
   "metadata": {
    "collapsed": true,
    "ExecuteTime": {
     "end_time": "2024-12-04T11:34:26.967679Z",
     "start_time": "2024-12-04T11:34:26.889678Z"
    }
   },
   "source": [
    "%load_ext autoreload\n",
    "%autoreload 2"
   ],
   "outputs": [],
   "execution_count": 1
  },
  {
   "metadata": {
    "ExecuteTime": {
     "end_time": "2024-12-04T11:41:55.044450Z",
     "start_time": "2024-12-04T11:41:54.950412Z"
    }
   },
   "cell_type": "code",
   "source": "%cd code",
   "id": "bab6d7eff7a399ba",
   "outputs": [
    {
     "name": "stdout",
     "output_type": "stream",
     "text": [
      "C:\\Users\\ainal\\OneDrive\\Escritorio\\IML\\clusteringmethods\\code\n"
     ]
    }
   ],
   "execution_count": 4
  },
  {
   "metadata": {
    "ExecuteTime": {
     "end_time": "2024-12-04T11:42:11.624569Z",
     "start_time": "2024-12-04T11:41:56.100340Z"
    }
   },
   "cell_type": "code",
   "source": [
    "from optics import apply_optics\n",
    "from preprocessing import preprocess_sick, preprocess_grid, preprocess_vowel\n",
    "from utils import plot_clusters\n",
    "import numpy as np\n",
    "from scipy.io.arff import loadarff\n",
    "import pandas as pd\n",
    "from metrics import davies_bouldin_index\n",
    "from metrics import silhouette_coefficient\n",
    "from metrics import adjusted_rand_index\n",
    "from metrics import purity_score\n",
    "from metrics import f_measure"
   ],
   "id": "862b1f30c77c13d9",
   "outputs": [
    {
     "name": "stderr",
     "output_type": "stream",
     "text": [
      "C:\\Users\\ainal\\OneDrive\\Escritorio\\IML\\clusteringmethods\\.venv\\lib\\site-packages\\tqdm\\auto.py:21: TqdmWarning: IProgress not found. Please update jupyter and ipywidgets. See https://ipywidgets.readthedocs.io/en/stable/user_install.html\n",
      "  from .autonotebook import tqdm as notebook_tqdm\n"
     ]
    }
   ],
   "execution_count": 5
  },
  {
   "metadata": {
    "ExecuteTime": {
     "end_time": "2024-12-04T12:01:17.441452Z",
     "start_time": "2024-12-04T12:01:17.273455Z"
    }
   },
   "cell_type": "code",
   "source": [
    "from metrics import get_metrics_optics\n",
    "import time\n",
    "def get_all_optics(dataX, dataY):\n",
    "    res = []\n",
    "    for metric in ['euclidean', 'manhattan', 'minkowski']:\n",
    "        for algorithm in ['kd_tree', 'ball_tree']:\n",
    "            for xi in [0.05,0.1]:\n",
    "                for min_sample in [5,15]:\n",
    "                    start_time = time.time()\n",
    "                    labels = apply_optics(dataX, metric, algorithm, xi, min_sample)\n",
    "                    end_time = time.time()\n",
    "                    elapsed_time = end_time - start_time\n",
    "                    k = len(np.unique(labels))\n",
    "                    method= f\"optics_k_{k}_distance_{metric}_algorithm_{algorithm}_xi_{xi}_min_{min_sample}\"\n",
    "                    results_optics = get_metrics_optics(dataX, dataY, labels, method, elapsed_time,n_iterations = None)\n",
    "                    res.append(results_optics)\n",
    "    return res                \n"
   ],
   "id": "dfcb22490348c049",
   "outputs": [],
   "execution_count": 8
  },
  {
   "metadata": {
    "ExecuteTime": {
     "end_time": "2024-12-04T12:01:59.466703Z",
     "start_time": "2024-12-04T12:01:20.807936Z"
    }
   },
   "cell_type": "code",
   "source": [
    "df = pd.read_csv('../datasets_processed/grid.csv')\n",
    "df_X = np.array(df[df.columns[:-1]])\n",
    "df_y = np.array(df[df.columns[-1]])\n",
    "\n",
    "resultados1 = get_all_optics(df_X, df_y)"
   ],
   "id": "69bb08614126f99f",
   "outputs": [],
   "execution_count": 9
  },
  {
   "metadata": {
    "ExecuteTime": {
     "end_time": "2024-12-04T12:04:22.371193Z",
     "start_time": "2024-12-04T12:04:22.236195Z"
    }
   },
   "cell_type": "code",
   "source": [
    "results_df = pd.DataFrame(resultados1)\n",
    "results_df.to_csv('../output/results_optics_grid.csv')"
   ],
   "id": "97b83e21a5f8ccef",
   "outputs": [],
   "execution_count": 10
  },
  {
   "metadata": {
    "ExecuteTime": {
     "end_time": "2024-12-04T12:07:47.409436Z",
     "start_time": "2024-12-04T12:05:42.246109Z"
    }
   },
   "cell_type": "code",
   "source": [
    "df = pd.read_csv('../datasets_processed/sick.csv')\n",
    "df_X = np.array(df[df.columns[:-1]])\n",
    "df_y = np.array(df[df.columns[-1]])\n",
    "\n",
    "resultados = get_all_optics(df_X, df_y)\n",
    "results_df = pd.DataFrame(resultados)\n",
    "results_df.to_csv('../output/results_optics_sick.csv')"
   ],
   "id": "9eb03f21a8c6ebf7",
   "outputs": [
    {
     "name": "stderr",
     "output_type": "stream",
     "text": [
      "C:\\Users\\ainal\\OneDrive\\Escritorio\\IML\\clusteringmethods\\.venv\\lib\\site-packages\\sklearn\\cluster\\_optics.py:1083: RuntimeWarning: divide by zero encountered in divide\n",
      "  ratio = reachability_plot[:-1] / reachability_plot[1:]\n",
      "C:\\Users\\ainal\\OneDrive\\Escritorio\\IML\\clusteringmethods\\.venv\\lib\\site-packages\\sklearn\\cluster\\_optics.py:1083: RuntimeWarning: divide by zero encountered in divide\n",
      "  ratio = reachability_plot[:-1] / reachability_plot[1:]\n",
      "C:\\Users\\ainal\\OneDrive\\Escritorio\\IML\\clusteringmethods\\.venv\\lib\\site-packages\\sklearn\\cluster\\_optics.py:1083: RuntimeWarning: divide by zero encountered in divide\n",
      "  ratio = reachability_plot[:-1] / reachability_plot[1:]\n",
      "C:\\Users\\ainal\\OneDrive\\Escritorio\\IML\\clusteringmethods\\.venv\\lib\\site-packages\\sklearn\\cluster\\_optics.py:1083: RuntimeWarning: divide by zero encountered in divide\n",
      "  ratio = reachability_plot[:-1] / reachability_plot[1:]\n",
      "C:\\Users\\ainal\\OneDrive\\Escritorio\\IML\\clusteringmethods\\.venv\\lib\\site-packages\\sklearn\\cluster\\_optics.py:1083: RuntimeWarning: divide by zero encountered in divide\n",
      "  ratio = reachability_plot[:-1] / reachability_plot[1:]\n",
      "C:\\Users\\ainal\\OneDrive\\Escritorio\\IML\\clusteringmethods\\.venv\\lib\\site-packages\\sklearn\\cluster\\_optics.py:1083: RuntimeWarning: divide by zero encountered in divide\n",
      "  ratio = reachability_plot[:-1] / reachability_plot[1:]\n",
      "C:\\Users\\ainal\\OneDrive\\Escritorio\\IML\\clusteringmethods\\.venv\\lib\\site-packages\\sklearn\\cluster\\_optics.py:1083: RuntimeWarning: divide by zero encountered in divide\n",
      "  ratio = reachability_plot[:-1] / reachability_plot[1:]\n",
      "C:\\Users\\ainal\\OneDrive\\Escritorio\\IML\\clusteringmethods\\.venv\\lib\\site-packages\\sklearn\\cluster\\_optics.py:1083: RuntimeWarning: divide by zero encountered in divide\n",
      "  ratio = reachability_plot[:-1] / reachability_plot[1:]\n",
      "C:\\Users\\ainal\\OneDrive\\Escritorio\\IML\\clusteringmethods\\.venv\\lib\\site-packages\\sklearn\\cluster\\_optics.py:1083: RuntimeWarning: divide by zero encountered in divide\n",
      "  ratio = reachability_plot[:-1] / reachability_plot[1:]\n",
      "C:\\Users\\ainal\\OneDrive\\Escritorio\\IML\\clusteringmethods\\.venv\\lib\\site-packages\\sklearn\\cluster\\_optics.py:1083: RuntimeWarning: divide by zero encountered in divide\n",
      "  ratio = reachability_plot[:-1] / reachability_plot[1:]\n",
      "C:\\Users\\ainal\\OneDrive\\Escritorio\\IML\\clusteringmethods\\.venv\\lib\\site-packages\\sklearn\\cluster\\_optics.py:1083: RuntimeWarning: divide by zero encountered in divide\n",
      "  ratio = reachability_plot[:-1] / reachability_plot[1:]\n",
      "C:\\Users\\ainal\\OneDrive\\Escritorio\\IML\\clusteringmethods\\.venv\\lib\\site-packages\\sklearn\\cluster\\_optics.py:1083: RuntimeWarning: divide by zero encountered in divide\n",
      "  ratio = reachability_plot[:-1] / reachability_plot[1:]\n"
     ]
    }
   ],
   "execution_count": 11
  },
  {
   "metadata": {
    "ExecuteTime": {
     "end_time": "2024-12-04T12:08:12.190632Z",
     "start_time": "2024-12-04T12:07:47.416251Z"
    }
   },
   "cell_type": "code",
   "source": [
    "df = pd.read_csv('../datasets_processed/vowel.csv')\n",
    "df_X = np.array(df[df.columns[:-1]])\n",
    "df_y = np.array(df[df.columns[-1]])\n",
    "\n",
    "resultados = get_all_optics(df_X, df_y)\n",
    "results_df = pd.DataFrame(resultados)\n",
    "results_df.to_csv('../output/results_optics_vowel.csv')"
   ],
   "id": "174aa175842b06d2",
   "outputs": [],
   "execution_count": 12
  }
 ],
 "metadata": {
  "kernelspec": {
   "display_name": "Python 3",
   "language": "python",
   "name": "python3"
  },
  "language_info": {
   "codemirror_mode": {
    "name": "ipython",
    "version": 2
   },
   "file_extension": ".py",
   "mimetype": "text/x-python",
   "name": "python",
   "nbconvert_exporter": "python",
   "pygments_lexer": "ipython2",
   "version": "2.7.6"
  }
 },
 "nbformat": 4,
 "nbformat_minor": 5
}
