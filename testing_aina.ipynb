{
 "cells": [
  {
   "cell_type": "code",
   "id": "initial_id",
   "metadata": {
    "collapsed": true,
    "ExecuteTime": {
     "end_time": "2024-11-30T22:27:50.767033Z",
     "start_time": "2024-11-30T22:27:50.723644Z"
    }
   },
   "source": [
    "%load_ext autoreload\n",
    "%autoreload 2"
   ],
   "outputs": [],
   "execution_count": 1
  },
  {
   "metadata": {
    "ExecuteTime": {
     "end_time": "2024-11-30T22:27:51.777328Z",
     "start_time": "2024-11-30T22:27:51.722332Z"
    }
   },
   "cell_type": "code",
   "source": "%cd code",
   "id": "bab6d7eff7a399ba",
   "outputs": [
    {
     "name": "stdout",
     "output_type": "stream",
     "text": [
      "C:\\Users\\ainal\\OneDrive\\Escritorio\\IML\\clusteringmethods\\code\n"
     ]
    }
   ],
   "execution_count": 2
  },
  {
   "metadata": {
    "ExecuteTime": {
     "end_time": "2024-11-30T23:10:02.077196Z",
     "start_time": "2024-11-30T23:10:01.972200Z"
    }
   },
   "cell_type": "code",
   "source": [
    "from optics import apply_optics\n",
    "from preprocessing import preprocess_sick, preprocess_grid, preprocess_vowel\n",
    "from utils import plot_clusters\n",
    "import numpy as np\n",
    "from scipy.io.arff import loadarff\n",
    "import pandas as pd\n",
    "from metrics import davies_bouldin_index\n",
    "from metrics import silhouette_coefficient\n",
    "from metrics import adjusted_rand_index\n",
    "from metrics import purity_score\n",
    "from metrics import f_measure"
   ],
   "id": "862b1f30c77c13d9",
   "outputs": [],
   "execution_count": 11
  },
  {
   "metadata": {
    "ExecuteTime": {
     "end_time": "2024-11-30T23:10:19.375224Z",
     "start_time": "2024-11-30T23:10:19.254222Z"
    }
   },
   "cell_type": "code",
   "source": [
    "def get_metrics_optics(X, y, labels_pred, dist, algorithm, xi, min_samples):\n",
    "\n",
    "    # Compute metrics\n",
    "    dbi = davies_bouldin_index(X, labels_pred)\n",
    "    silhouette = silhouette_coefficient(X, labels_pred)\n",
    "\n",
    "    ari = adjusted_rand_index(y, labels_pred)\n",
    "    purity = purity_score(y, labels_pred)\n",
    "    fmeasure = f_measure(y, labels_pred)\n",
    "    \n",
    "    # Append results\n",
    "    results = {\n",
    "        \"algorithm\": algorithm,\n",
    "        \"distance\": dist,\n",
    "        \"xi\": xi,\n",
    "        \"min_samples\": min_samples,\n",
    "        \"ARI\": ari,\n",
    "        \"Purity\": purity,\n",
    "        \"F-Measure\": fmeasure,\n",
    "        \"Davies-Bouldin Index\": dbi,\n",
    "        \"Silhouette Coefficient\": silhouette\n",
    "    }\n",
    "    return results"
   ],
   "id": "c46ba89e3fb01f9c",
   "outputs": [],
   "execution_count": 13
  },
  {
   "metadata": {
    "ExecuteTime": {
     "end_time": "2024-11-30T23:11:28.893823Z",
     "start_time": "2024-11-30T23:11:28.786800Z"
    }
   },
   "cell_type": "code",
   "source": [
    "def get_all_optics(dataX, dataY):\n",
    "    results = []\n",
    "    for metric in ['euclidean', 'manhattan', 'minkowski']:\n",
    "        for algorithm in ['kd_tree', 'ball_tree']:\n",
    "            for xi in [0.05,0.1]:\n",
    "                for min_sample in [5,15]:\n",
    "                    labels = apply_optics(dataX, metric, algorithm, xi, min_sample)\n",
    "                    metrics = get_metrics_optics(dataX, dataY, labels, metric, algorithm, xi, min_sample)\n",
    "                    results.append(metrics)\n"
   ],
   "id": "dfcb22490348c049",
   "outputs": [],
   "execution_count": 14
  },
  {
   "metadata": {
    "ExecuteTime": {
     "end_time": "2024-11-30T23:12:04.767825Z",
     "start_time": "2024-11-30T23:12:02.402678Z"
    }
   },
   "cell_type": "code",
   "source": [
    "df = pd.read_csv('../datasets_processed/grid.csv')\n",
    "df_X = np.array(df[df.columns[:-1]])\n",
    "df_y = np.array(df[df.columns[-1]])\n",
    "\n",
    "results = get_all_optics(df_X, df_y)"
   ],
   "id": "69bb08614126f99f",
   "outputs": [
    {
     "ename": "ValueError",
     "evalue": "Number of labels is 1. Valid values are 2 to n_samples - 1 (inclusive)",
     "output_type": "error",
     "traceback": [
      "\u001B[1;31m---------------------------------------------------------------------------\u001B[0m",
      "\u001B[1;31mValueError\u001B[0m                                Traceback (most recent call last)",
      "Cell \u001B[1;32mIn[15], line 5\u001B[0m\n\u001B[0;32m      2\u001B[0m df_X \u001B[38;5;241m=\u001B[39m np\u001B[38;5;241m.\u001B[39marray(df[df\u001B[38;5;241m.\u001B[39mcolumns[:\u001B[38;5;241m-\u001B[39m\u001B[38;5;241m1\u001B[39m]])\n\u001B[0;32m      3\u001B[0m df_y \u001B[38;5;241m=\u001B[39m np\u001B[38;5;241m.\u001B[39marray(df[df\u001B[38;5;241m.\u001B[39mcolumns[\u001B[38;5;241m-\u001B[39m\u001B[38;5;241m1\u001B[39m]])\n\u001B[1;32m----> 5\u001B[0m results \u001B[38;5;241m=\u001B[39m \u001B[43mget_all_optics\u001B[49m\u001B[43m(\u001B[49m\u001B[43mdf_X\u001B[49m\u001B[43m,\u001B[49m\u001B[43m \u001B[49m\u001B[43mdf_y\u001B[49m\u001B[43m)\u001B[49m\n",
      "Cell \u001B[1;32mIn[14], line 8\u001B[0m, in \u001B[0;36mget_all_optics\u001B[1;34m(dataX, dataY)\u001B[0m\n\u001B[0;32m      6\u001B[0m \u001B[38;5;28;01mfor\u001B[39;00m min_sample \u001B[38;5;129;01min\u001B[39;00m [\u001B[38;5;241m5\u001B[39m,\u001B[38;5;241m15\u001B[39m]:\n\u001B[0;32m      7\u001B[0m     labels \u001B[38;5;241m=\u001B[39m apply_optics(dataX, metric, algorithm, xi, min_sample)\n\u001B[1;32m----> 8\u001B[0m     metrics \u001B[38;5;241m=\u001B[39m \u001B[43mget_metrics_optics\u001B[49m\u001B[43m(\u001B[49m\u001B[43mdataX\u001B[49m\u001B[43m,\u001B[49m\u001B[43m \u001B[49m\u001B[43mdataY\u001B[49m\u001B[43m,\u001B[49m\u001B[43m \u001B[49m\u001B[43mlabels\u001B[49m\u001B[43m,\u001B[49m\u001B[43m \u001B[49m\u001B[43mmetric\u001B[49m\u001B[43m,\u001B[49m\u001B[43m \u001B[49m\u001B[43malgorithm\u001B[49m\u001B[43m,\u001B[49m\u001B[43m \u001B[49m\u001B[43mxi\u001B[49m\u001B[43m,\u001B[49m\u001B[43m \u001B[49m\u001B[43mmin_sample\u001B[49m\u001B[43m)\u001B[49m\n\u001B[0;32m      9\u001B[0m     results\u001B[38;5;241m.\u001B[39mappend(metrics)\n",
      "Cell \u001B[1;32mIn[13], line 4\u001B[0m, in \u001B[0;36mget_metrics_optics\u001B[1;34m(X, y, labels_pred, dist, algorithm, xi, min_samples)\u001B[0m\n\u001B[0;32m      1\u001B[0m \u001B[38;5;28;01mdef\u001B[39;00m \u001B[38;5;21mget_metrics_optics\u001B[39m(X, y, labels_pred, dist, algorithm, xi, min_samples):\n\u001B[0;32m      2\u001B[0m \n\u001B[0;32m      3\u001B[0m     \u001B[38;5;66;03m# Compute metrics\u001B[39;00m\n\u001B[1;32m----> 4\u001B[0m     dbi \u001B[38;5;241m=\u001B[39m \u001B[43mdavies_bouldin_index\u001B[49m\u001B[43m(\u001B[49m\u001B[43mX\u001B[49m\u001B[43m,\u001B[49m\u001B[43m \u001B[49m\u001B[43mlabels_pred\u001B[49m\u001B[43m)\u001B[49m\n\u001B[0;32m      5\u001B[0m     silhouette \u001B[38;5;241m=\u001B[39m silhouette_coefficient(X, labels_pred)\n\u001B[0;32m      7\u001B[0m     ari \u001B[38;5;241m=\u001B[39m adjusted_rand_index(y, labels_pred)\n",
      "File \u001B[1;32m~\\OneDrive\\Escritorio\\IML\\clusteringmethods\\code\\metrics.py:17\u001B[0m, in \u001B[0;36mdavies_bouldin_index\u001B[1;34m(data, labels)\u001B[0m\n\u001B[0;32m     16\u001B[0m \u001B[38;5;28;01mdef\u001B[39;00m \u001B[38;5;21mdavies_bouldin_index\u001B[39m(data, labels):\n\u001B[1;32m---> 17\u001B[0m     \u001B[38;5;28;01mreturn\u001B[39;00m \u001B[43mdavies_bouldin_score\u001B[49m\u001B[43m(\u001B[49m\u001B[43mdata\u001B[49m\u001B[43m,\u001B[49m\u001B[43m \u001B[49m\u001B[43mlabels\u001B[49m\u001B[43m)\u001B[49m\n",
      "File \u001B[1;32m~\\OneDrive\\Escritorio\\IML\\clusteringmethods\\.venv\\lib\\site-packages\\sklearn\\utils\\_param_validation.py:213\u001B[0m, in \u001B[0;36mvalidate_params.<locals>.decorator.<locals>.wrapper\u001B[1;34m(*args, **kwargs)\u001B[0m\n\u001B[0;32m    207\u001B[0m \u001B[38;5;28;01mtry\u001B[39;00m:\n\u001B[0;32m    208\u001B[0m     \u001B[38;5;28;01mwith\u001B[39;00m config_context(\n\u001B[0;32m    209\u001B[0m         skip_parameter_validation\u001B[38;5;241m=\u001B[39m(\n\u001B[0;32m    210\u001B[0m             prefer_skip_nested_validation \u001B[38;5;129;01mor\u001B[39;00m global_skip_validation\n\u001B[0;32m    211\u001B[0m         )\n\u001B[0;32m    212\u001B[0m     ):\n\u001B[1;32m--> 213\u001B[0m         \u001B[38;5;28;01mreturn\u001B[39;00m func(\u001B[38;5;241m*\u001B[39margs, \u001B[38;5;241m*\u001B[39m\u001B[38;5;241m*\u001B[39mkwargs)\n\u001B[0;32m    214\u001B[0m \u001B[38;5;28;01mexcept\u001B[39;00m InvalidParameterError \u001B[38;5;28;01mas\u001B[39;00m e:\n\u001B[0;32m    215\u001B[0m     \u001B[38;5;66;03m# When the function is just a wrapper around an estimator, we allow\u001B[39;00m\n\u001B[0;32m    216\u001B[0m     \u001B[38;5;66;03m# the function to delegate validation to the estimator, but we replace\u001B[39;00m\n\u001B[0;32m    217\u001B[0m     \u001B[38;5;66;03m# the name of the estimator by the name of the function in the error\u001B[39;00m\n\u001B[0;32m    218\u001B[0m     \u001B[38;5;66;03m# message to avoid confusion.\u001B[39;00m\n\u001B[0;32m    219\u001B[0m     msg \u001B[38;5;241m=\u001B[39m re\u001B[38;5;241m.\u001B[39msub(\n\u001B[0;32m    220\u001B[0m         \u001B[38;5;124mr\u001B[39m\u001B[38;5;124m\"\u001B[39m\u001B[38;5;124mparameter of \u001B[39m\u001B[38;5;124m\\\u001B[39m\u001B[38;5;124mw+ must be\u001B[39m\u001B[38;5;124m\"\u001B[39m,\n\u001B[0;32m    221\u001B[0m         \u001B[38;5;124mf\u001B[39m\u001B[38;5;124m\"\u001B[39m\u001B[38;5;124mparameter of \u001B[39m\u001B[38;5;132;01m{\u001B[39;00mfunc\u001B[38;5;241m.\u001B[39m\u001B[38;5;18m__qualname__\u001B[39m\u001B[38;5;132;01m}\u001B[39;00m\u001B[38;5;124m must be\u001B[39m\u001B[38;5;124m\"\u001B[39m,\n\u001B[0;32m    222\u001B[0m         \u001B[38;5;28mstr\u001B[39m(e),\n\u001B[0;32m    223\u001B[0m     )\n",
      "File \u001B[1;32m~\\OneDrive\\Escritorio\\IML\\clusteringmethods\\.venv\\lib\\site-packages\\sklearn\\metrics\\cluster\\_unsupervised.py:448\u001B[0m, in \u001B[0;36mdavies_bouldin_score\u001B[1;34m(X, labels)\u001B[0m\n\u001B[0;32m    446\u001B[0m n_samples, _ \u001B[38;5;241m=\u001B[39m X\u001B[38;5;241m.\u001B[39mshape\n\u001B[0;32m    447\u001B[0m n_labels \u001B[38;5;241m=\u001B[39m \u001B[38;5;28mlen\u001B[39m(le\u001B[38;5;241m.\u001B[39mclasses_)\n\u001B[1;32m--> 448\u001B[0m \u001B[43mcheck_number_of_labels\u001B[49m\u001B[43m(\u001B[49m\u001B[43mn_labels\u001B[49m\u001B[43m,\u001B[49m\u001B[43m \u001B[49m\u001B[43mn_samples\u001B[49m\u001B[43m)\u001B[49m\n\u001B[0;32m    450\u001B[0m intra_dists \u001B[38;5;241m=\u001B[39m np\u001B[38;5;241m.\u001B[39mzeros(n_labels)\n\u001B[0;32m    451\u001B[0m centroids \u001B[38;5;241m=\u001B[39m np\u001B[38;5;241m.\u001B[39mzeros((n_labels, \u001B[38;5;28mlen\u001B[39m(X[\u001B[38;5;241m0\u001B[39m])), dtype\u001B[38;5;241m=\u001B[39m\u001B[38;5;28mfloat\u001B[39m)\n",
      "File \u001B[1;32m~\\OneDrive\\Escritorio\\IML\\clusteringmethods\\.venv\\lib\\site-packages\\sklearn\\metrics\\cluster\\_unsupervised.py:38\u001B[0m, in \u001B[0;36mcheck_number_of_labels\u001B[1;34m(n_labels, n_samples)\u001B[0m\n\u001B[0;32m     27\u001B[0m \u001B[38;5;250m\u001B[39m\u001B[38;5;124;03m\"\"\"Check that number of labels are valid.\u001B[39;00m\n\u001B[0;32m     28\u001B[0m \n\u001B[0;32m     29\u001B[0m \u001B[38;5;124;03mParameters\u001B[39;00m\n\u001B[1;32m   (...)\u001B[0m\n\u001B[0;32m     35\u001B[0m \u001B[38;5;124;03m    Number of samples.\u001B[39;00m\n\u001B[0;32m     36\u001B[0m \u001B[38;5;124;03m\"\"\"\u001B[39;00m\n\u001B[0;32m     37\u001B[0m \u001B[38;5;28;01mif\u001B[39;00m \u001B[38;5;129;01mnot\u001B[39;00m \u001B[38;5;241m1\u001B[39m \u001B[38;5;241m<\u001B[39m n_labels \u001B[38;5;241m<\u001B[39m n_samples:\n\u001B[1;32m---> 38\u001B[0m     \u001B[38;5;28;01mraise\u001B[39;00m \u001B[38;5;167;01mValueError\u001B[39;00m(\n\u001B[0;32m     39\u001B[0m         \u001B[38;5;124m\"\u001B[39m\u001B[38;5;124mNumber of labels is \u001B[39m\u001B[38;5;132;01m%d\u001B[39;00m\u001B[38;5;124m. Valid values are 2 to n_samples - 1 (inclusive)\u001B[39m\u001B[38;5;124m\"\u001B[39m\n\u001B[0;32m     40\u001B[0m         \u001B[38;5;241m%\u001B[39m n_labels\n\u001B[0;32m     41\u001B[0m     )\n",
      "\u001B[1;31mValueError\u001B[0m: Number of labels is 1. Valid values are 2 to n_samples - 1 (inclusive)"
     ]
    }
   ],
   "execution_count": 15
  }
 ],
 "metadata": {
  "kernelspec": {
   "display_name": "Python 3",
   "language": "python",
   "name": "python3"
  },
  "language_info": {
   "codemirror_mode": {
    "name": "ipython",
    "version": 2
   },
   "file_extension": ".py",
   "mimetype": "text/x-python",
   "name": "python",
   "nbconvert_exporter": "python",
   "pygments_lexer": "ipython2",
   "version": "2.7.6"
  }
 },
 "nbformat": 4,
 "nbformat_minor": 5
}
