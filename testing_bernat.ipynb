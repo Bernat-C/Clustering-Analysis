{
 "cells": [
  {
   "cell_type": "code",
   "id": "a4b41cd18a65c19f",
   "metadata": {
    "ExecuteTime": {
     "end_time": "2024-12-04T08:08:26.476167Z",
     "start_time": "2024-12-04T08:08:26.375769Z"
    }
   },
   "source": [
    "from metrics import get_metrics_fuzzy, xie_beni\n",
    "%load_ext autoreload\n",
    "%autoreload 2"
   ],
   "outputs": [],
   "execution_count": 2
  },
  {
   "metadata": {
    "ExecuteTime": {
     "end_time": "2024-12-03T18:45:33.095955Z",
     "start_time": "2024-12-03T18:45:33.024452Z"
    }
   },
   "cell_type": "code",
   "source": "#%cd ..",
   "id": "45a948e19cc2f44e",
   "outputs": [],
   "execution_count": 4
  },
  {
   "cell_type": "code",
   "id": "55866a22",
   "metadata": {
    "ExecuteTime": {
     "end_time": "2024-12-04T08:08:28.115014Z",
     "start_time": "2024-12-04T08:08:28.044787Z"
    }
   },
   "source": [
    "%cd code"
   ],
   "outputs": [
    {
     "name": "stdout",
     "output_type": "stream",
     "text": [
      "C:\\Users\\girob\\Documents\\MAI\\IML\\clusteringmethods\\code\n"
     ]
    }
   ],
   "execution_count": 3
  },
  {
   "cell_type": "code",
   "id": "92aa3aea66d40c8",
   "metadata": {
    "ExecuteTime": {
     "end_time": "2024-12-02T14:56:50.662680Z",
     "start_time": "2024-12-02T14:56:49.168569Z"
    }
   },
   "source": [
    "from preprocessing import preprocess_sick, preprocess_grid, preprocess_vowel\n",
    "from fuzzyclustering import gs_fcm, update_membership_matrix, defuzzyfy\n",
    "from utils import plot_clusters\n",
    "import numpy as np\n",
    "from main import load_ds"
   ],
   "outputs": [],
   "execution_count": 1
  },
  {
   "metadata": {
    "ExecuteTime": {
     "end_time": "2024-11-28T12:21:45.612203Z",
     "start_time": "2024-11-28T12:21:45.302571Z"
    }
   },
   "cell_type": "code",
   "source": [
    "from scipy.io.arff import loadarff\n",
    "import pandas as pd\n",
    "df_sick, meta_train = loadarff(f'../datasets/sick.arff')\n",
    "\n",
    "# Define datasets\n",
    "df_sick = pd.DataFrame(df_sick)\n",
    "\n",
    "# Decode utf8 columns\n",
    "for col in df_sick.columns:\n",
    "    df_sick[col].map(lambda x: x.decode('utf-8') if isinstance(x, bytes) else x)"
   ],
   "id": "fca69eba54ffa423",
   "outputs": [],
   "execution_count": 6
  },
  {
   "metadata": {
    "ExecuteTime": {
     "end_time": "2024-11-28T12:23:32.781324Z",
     "start_time": "2024-11-28T12:23:32.699764Z"
    }
   },
   "cell_type": "code",
   "source": [
    "count = (df_sick[\"age\"] > 90).sum()\n",
    "print(count)"
   ],
   "id": "d3235456fdfe6b40",
   "outputs": [
    {
     "name": "stdout",
     "output_type": "stream",
     "text": [
      "9\n"
     ]
    }
   ],
   "execution_count": 9
  },
  {
   "metadata": {
    "ExecuteTime": {
     "end_time": "2024-12-04T08:15:31.514361Z",
     "start_time": "2024-12-04T08:15:31.424953Z"
    }
   },
   "cell_type": "code",
   "source": [
    "from main import load_ds\n",
    "\n",
    "df_X, df_y = load_ds(\"vowel\")"
   ],
   "id": "17b8bb77acd06a5d",
   "outputs": [],
   "execution_count": 17
  },
  {
   "cell_type": "code",
   "id": "cb4b2e2f4dda6d",
   "metadata": {
    "ExecuteTime": {
     "end_time": "2024-12-04T08:15:33.815902Z",
     "start_time": "2024-12-04T08:15:32.874800Z"
    }
   },
   "source": [
    "from fuzzyclustering import gs_fcm, get_cluster_list, defuzzyfy\n",
    "from utils import plot_clusters\n",
    "from metrics import get_metrics_fuzzy\n",
    "import numpy as np\n",
    "# Number of clusters\n",
    "C = 11\n",
    "m = 1.75\n",
    "eta = 0.1\n",
    "\n",
    "u, iters, centers = gs_fcm(df_X,C,m,suppress=True,generalized=True,eta=eta)\n",
    "print(f\"GS_FCM converged in {iters} iterations.\")\n",
    "clusters = defuzzyfy(u)\n",
    "assignments = get_cluster_list(df_X,centers,clusters,C)\n",
    "print(get_metrics_fuzzy(df_X,np.array(df_y),clusters,\"Fuzzy\",None,iters,u,centers,m))\n",
    "plot_clusters(assignments)"
   ],
   "outputs": [
    {
     "name": "stdout",
     "output_type": "stream",
     "text": [
      "GS_FCM converged in 82 iterations.\n",
      "{'Method': 'Fuzzy', 'ARI': -0.0022161734191445213, 'Purity': 0.09090909090909091, 'F-Measure': 0.1553398058252427, 'Davies-Bouldin Index': 1.6639179503305346, 'Silhouette Coefficient': 0.19289489068839427, 'Calinski': 186.71143837298828, 'Xie-Beni': 159017253179.86475, 'Solving Time': None, 'Iterations': 82}\n",
      "Cluster point distribution: \n",
      "Cluster 0 - Points shape: (528, 26)\n",
      "Cluster 1 - Points shape: (66, 26)\n",
      "Cluster 2 - Points shape: (396, 26)\n",
      "Cluster 3 - Points shape: (0,)\n"
     ]
    },
    {
     "ename": "IndexError",
     "evalue": "too many indices for array: array is 1-dimensional, but 2 were indexed",
     "output_type": "error",
     "traceback": [
      "\u001B[1;31m---------------------------------------------------------------------------\u001B[0m",
      "\u001B[1;31mIndexError\u001B[0m                                Traceback (most recent call last)",
      "Cell \u001B[1;32mIn[18], line 15\u001B[0m\n\u001B[0;32m     13\u001B[0m assignments \u001B[38;5;241m=\u001B[39m get_cluster_list(df_X,centers,clusters,C)\n\u001B[0;32m     14\u001B[0m \u001B[38;5;28mprint\u001B[39m(get_metrics_fuzzy(df_X,np\u001B[38;5;241m.\u001B[39marray(df_y),clusters,\u001B[38;5;124m\"\u001B[39m\u001B[38;5;124mFuzzy\u001B[39m\u001B[38;5;124m\"\u001B[39m,\u001B[38;5;28;01mNone\u001B[39;00m,iters,u,centers,m))\n\u001B[1;32m---> 15\u001B[0m \u001B[43mplot_clusters\u001B[49m\u001B[43m(\u001B[49m\u001B[43massignments\u001B[49m\u001B[43m)\u001B[49m\n",
      "File \u001B[1;32m~\\Documents\\MAI\\IML\\clusteringmethods\\code\\utils.py:150\u001B[0m, in \u001B[0;36mplot_clusters\u001B[1;34m(clusters)\u001B[0m\n\u001B[0;32m    147\u001B[0m \u001B[38;5;66;03m# Debugging: Print the shape of points to check if it's 2D\u001B[39;00m\n\u001B[0;32m    148\u001B[0m \u001B[38;5;28mprint\u001B[39m(\u001B[38;5;124mf\u001B[39m\u001B[38;5;124m\"\u001B[39m\u001B[38;5;124mCluster \u001B[39m\u001B[38;5;132;01m{\u001B[39;00mcluster_id\u001B[38;5;132;01m}\u001B[39;00m\u001B[38;5;124m - Points shape: \u001B[39m\u001B[38;5;132;01m{\u001B[39;00mpoints\u001B[38;5;241m.\u001B[39mshape\u001B[38;5;132;01m}\u001B[39;00m\u001B[38;5;124m\"\u001B[39m)\n\u001B[1;32m--> 150\u001B[0m plt\u001B[38;5;241m.\u001B[39mscatter(\u001B[43mpoints\u001B[49m\u001B[43m[\u001B[49m\u001B[43m:\u001B[49m\u001B[43m,\u001B[49m\u001B[43m \u001B[49m\u001B[38;5;241;43m0\u001B[39;49m\u001B[43m]\u001B[49m, points[:, \u001B[38;5;241m1\u001B[39m], label\u001B[38;5;241m=\u001B[39m\u001B[38;5;124mf\u001B[39m\u001B[38;5;124m'\u001B[39m\u001B[38;5;124mCluster \u001B[39m\u001B[38;5;132;01m{\u001B[39;00mcluster_id\u001B[38;5;132;01m}\u001B[39;00m\u001B[38;5;124m Points\u001B[39m\u001B[38;5;124m'\u001B[39m, alpha\u001B[38;5;241m=\u001B[39m\u001B[38;5;241m0.6\u001B[39m, s\u001B[38;5;241m=\u001B[39m\u001B[38;5;241m30\u001B[39m)\n\u001B[0;32m    152\u001B[0m \u001B[38;5;66;03m# Plot the center with a different marker (e.g., red 'X')\u001B[39;00m\n\u001B[0;32m    153\u001B[0m plt\u001B[38;5;241m.\u001B[39mscatter(center[\u001B[38;5;241m0\u001B[39m], center[\u001B[38;5;241m1\u001B[39m], color\u001B[38;5;241m=\u001B[39m\u001B[38;5;124m'\u001B[39m\u001B[38;5;124mred\u001B[39m\u001B[38;5;124m'\u001B[39m, marker\u001B[38;5;241m=\u001B[39m\u001B[38;5;124m'\u001B[39m\u001B[38;5;124mX\u001B[39m\u001B[38;5;124m'\u001B[39m, s\u001B[38;5;241m=\u001B[39m\u001B[38;5;241m100\u001B[39m, label\u001B[38;5;241m=\u001B[39m\u001B[38;5;124mf\u001B[39m\u001B[38;5;124m'\u001B[39m\u001B[38;5;124mCluster \u001B[39m\u001B[38;5;132;01m{\u001B[39;00mcluster_id\u001B[38;5;132;01m}\u001B[39;00m\u001B[38;5;124m Center\u001B[39m\u001B[38;5;124m'\u001B[39m)\n",
      "\u001B[1;31mIndexError\u001B[0m: too many indices for array: array is 1-dimensional, but 2 were indexed"
     ]
    },
    {
     "data": {
      "text/plain": [
       "<Figure size 800x600 with 1 Axes>"
      ],
      "image/png": "[encoded data removed]"
     },
     "metadata": {},
     "output_type": "display_data"
    }
   ],
   "execution_count": 18
  },
  {
   "metadata": {
    "ExecuteTime": {
     "end_time": "2024-12-04T08:58:50.347628Z",
     "start_time": "2024-12-04T08:32:25.784959Z"
    }
   },
   "cell_type": "code",
   "source": [
    "from main import runAllFuzzyClustering\n",
    "\n",
    "datasets = [\"sick\",\"grid\",\"vowel\"]\n",
    "runAllFuzzyClustering(datasets)"
   ],
   "id": "4dfa43b3fe81d4e9",
   "outputs": [
    {
     "name": "stderr",
     "output_type": "stream",
     "text": [
      "                                                                                       \r"
     ]
    }
   ],
   "execution_count": 20
  },
  {
   "metadata": {
    "ExecuteTime": {
     "end_time": "2024-12-04T08:13:22.842431Z",
     "start_time": "2024-12-04T08:13:22.744002Z"
    }
   },
   "cell_type": "code",
   "source": [
    "import pandas as pd \n",
    "\n",
    "df = pd.read_csv('../output/fuzzyclustering_vowel.csv')"
   ],
   "id": "556b2a00dd638826",
   "outputs": [],
   "execution_count": 8
  },
  {
   "metadata": {
    "ExecuteTime": {
     "end_time": "2024-12-04T08:15:03.808237Z",
     "start_time": "2024-12-04T08:15:03.714852Z"
    }
   },
   "cell_type": "code",
   "source": [
    "import matplotlib.pyplot as plt\n",
    "import seaborn as sns\n",
    "\n",
    "df = df.sort_values(by='Xie-Beni', ascending=True)\n",
    "df[['Model', 'k', 'm', 'eta']] = df['Method'].str.split('_', expand=True)\n",
    "\n",
    "# Further process to clean up the extracted columns\n",
    "df['k'] = df['k'].str.extract('(\\d+)', expand=False)  # Extract just the number for k\n",
    "df['m'] = df['m'].str.extract('(\\d+\\.\\d+|\\d+)', expand=False)  # Extract number for m\n",
    "df['eta'] = df['eta'].str.extract('(\\d+\\.\\d+|\\d+)', expand=False)  # Extract number for eta\n",
    "\n",
    "# Combine the extracted components into a readable format\n",
    "df['Formatted_Method'] = df['Model'] + ' (k=' + df['k'] + ', m=' + df['m'] + ', eta=' + df['eta'] + ')'\n",
    "\n",
    "final_df = df[[\"k\",\"m\",\"eta\",\"ARI\",\"Calinski\",\"Silhouette Coefficient\",\"Xie-Beni\",\"Solving Time\"]].head(10)\n",
    "\n",
    "print(final_df)\n",
    "\n",
    "#latex_table = final_df.to_latex(index=False)\n",
    "#print(latex_table)"
   ],
   "id": "bf9fc992e670ee78",
   "outputs": [
    {
     "name": "stdout",
     "output_type": "stream",
     "text": [
      "      k     m  eta       ARI    Calinski  Silhouette Coefficient  Xie-Beni  \\\n",
      "114  11  1.75  0.1 -0.001944  152.725919                0.357996  0.165763   \n",
      "118  11     2  0.5 -0.008629  176.358600                0.415239  0.177961   \n",
      "106  10     2  0.5 -0.007494  165.225731                0.385252  0.211889   \n",
      "94    9     2  0.5 -0.006573  151.521151                0.340728  0.239961   \n",
      "82    8     2  0.5 -0.005586  146.200498                0.306201  0.284325   \n",
      "111  11   1.5  0.1 -0.008629  175.443901                0.415037  0.285467   \n",
      "102  10  1.75  0.1 -0.006488  158.074411                0.367195  0.293045   \n",
      "103  10  1.75  0.5 -0.007494  162.315894                0.378130  0.340810   \n",
      "115  11  1.75  0.5 -0.009069  177.117788                0.416520  0.344950   \n",
      "70    7     2  0.5 -0.004798  138.551628                0.259339  0.354325   \n",
      "\n",
      "     Solving Time  \n",
      "114      1.092946  \n",
      "118      0.287882  \n",
      "106      0.155077  \n",
      "94       0.132542  \n",
      "82       0.078538  \n",
      "111      0.410478  \n",
      "102      1.446309  \n",
      "103      0.270270  \n",
      "115      0.400153  \n",
      "70       0.073851  \n"
     ]
    }
   ],
   "execution_count": 15
  }
 ],
 "metadata": {
  "kernelspec": {
   "display_name": "Python 3",
   "language": "python",
   "name": "python3"
  },
  "language_info": {
   "codemirror_mode": {
    "name": "ipython",
    "version": 3
   },
   "file_extension": ".py",
   "mimetype": "text/x-python",
   "name": "python",
   "nbconvert_exporter": "python",
   "pygments_lexer": "ipython3",
   "version": "3.9.0"
  }
 },
 "nbformat": 4,
 "nbformat_minor": 5
}
