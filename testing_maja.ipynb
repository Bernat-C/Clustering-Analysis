{
 "cells": [
  {
   "metadata": {
    "ExecuteTime": {
     "end_time": "2024-12-01T22:43:34.105451Z",
     "start_time": "2024-12-01T22:43:33.821180Z"
    }
   },
   "cell_type": "code",
   "source": [
    "import os\n",
    "os.environ[\"OMP_NUM_THREADS\"] = \"4\""
   ],
   "outputs": [],
   "execution_count": 16
  },
  {
   "cell_type": "code",
   "metadata": {
    "ExecuteTime": {
     "end_time": "2024-12-01T22:43:35.182106Z",
     "start_time": "2024-12-01T22:43:35.072794Z"
    }
   },
   "source": [
    "%load_ext autoreload\n",
    "%autoreload 2\n",
    "%cd code"
   ],
   "outputs": [
    {
     "name": "stdout",
     "output_type": "stream",
     "text": [
      "The autoreload extension is already loaded. To reload it, use:\n",
      "  %reload_ext autoreload\n",
      "[WinError 2] El sistema no puede encontrar el archivo especificado: 'code'\n",
      "C:\\Users\\maja9\\Documents\\GitHub\\Clustering-Algorithms\\code\n"
     ]
    }
   ],
   "execution_count": 17
  },
  {
   "metadata": {
    "ExecuteTime": {
     "end_time": "2024-12-01T22:43:45.133008Z",
     "start_time": "2024-12-01T22:43:45.025201Z"
    }
   },
   "cell_type": "code",
   "source": [
    "from sklearn.metrics import adjusted_rand_score, silhouette_score\n",
    "from sklearn.metrics import davies_bouldin_score\n",
    "\n",
    "def adjusted_rand_index(labels_true, labels_pred):\n",
    "    return adjusted_rand_score(labels_true, labels_pred)\n",
    "\n",
    "def purity_score(y_true, y_pred):\n",
    "    # Compute contingency matrix\n",
    "    contingency_matrix = pd.crosstab(y_true, y_pred)\n",
    "    # Sum of maximum values in each column\n",
    "    return np.sum(np.amax(contingency_matrix.values, axis=0)) / np.sum(contingency_matrix.values)\n",
    "\n",
    "def davies_bouldin_index(data, labels):\n",
    "    return davies_bouldin_score(data, labels)\n",
    "\n",
    "def silhouette_coefficient(data, labels):\n",
    "    return silhouette_score(data, labels)\n",
    "\n",
    "def f_measure(labels_true, labels_pred):\n",
    "    contingency_matrix = pd.crosstab(labels_true, labels_pred)\n",
    "    precision = contingency_matrix.max(axis=0).sum() / len(labels_pred)\n",
    "    recall = contingency_matrix.max(axis=1).sum() / len(labels_true)\n",
    "    return 2 * (precision * recall) / (precision + recall)\n",
    "\n",
    "def get_metrics(X, y, labels_pred, k, affinity, assign_labels, n_neighbors, eigen_solver):\n",
    "\n",
    "    # Compute metrics\n",
    "    dbi = davies_bouldin_index(X, labels_pred)\n",
    "    silhouette = silhouette_coefficient(X, labels_pred)\n",
    "\n",
    "    ari = adjusted_rand_index(y, labels_pred)\n",
    "    purity = purity_score(y, labels_pred)\n",
    "    fmeasure = f_measure(y, labels_pred)\n",
    "\n",
    "    # Append results\n",
    "    results = {\n",
    "        \"k\": k,\n",
    "        \"affinity\": affinity,\n",
    "        \"assign_labels\": assign_labels,\n",
    "        \"n_neighbors\": n_neighbors,\n",
    "        \"eigen_solver\": eigen_solver,\n",
    "        \"ARI\": ari,\n",
    "        \"Purity\": purity,\n",
    "        \"F-Measure\": fmeasure,\n",
    "        \"Davies-Bouldin Index\": dbi,\n",
    "        \"Silhouette Coefficient\": silhouette\n",
    "    }\n",
    "    return results"
   ],
   "outputs": [],
   "execution_count": 19
  },
  {
   "metadata": {
    "ExecuteTime": {
     "end_time": "2024-12-01T22:43:54.315564Z",
     "start_time": "2024-12-01T22:43:54.196125Z"
    }
   },
   "cell_type": "code",
   "source": [
    "import pandas as pd\n",
    "import numpy as np\n",
    "from sklearn.cluster import SpectralClustering\n",
    "\n",
    "def run_all_spectral_clustering(data_X, data_y):\n",
    "    results = []\n",
    "\n",
    "    for k in range(2, 8):\n",
    "        for affinity in [\"rbf\", \"nearest_neighbors\"]:\n",
    "            for assign_labels in ['kmeans', 'discretize']:\n",
    "                for eigen_solver in ['arpack', 'lobpcg']:\n",
    "\n",
    "                    if affinity == \"nearest_neighbors\":\n",
    "                        #for n_neighbors in [5, 10, 15, 20]: #grid\n",
    "                        #for n_neighbors in [30, 40, 50, 100]: #sick\n",
    "                        for n_neighbors in [200]: # vowel\n",
    "                            spectral = SpectralClustering(\n",
    "                                n_clusters=k,\n",
    "                                affinity=affinity,\n",
    "                                assign_labels=assign_labels,\n",
    "                                eigen_solver=eigen_solver,\n",
    "                                n_neighbors=n_neighbors,\n",
    "                            )\n",
    "\n",
    "                            labels = spectral.fit_predict(data_X)\n",
    "\n",
    "                            results_spectral = get_metrics(data_X, data_y, labels, k, affinity, assign_labels, n_neighbors , eigen_solver)\n",
    "                            results.append(results_spectral)\n",
    "\n",
    "                    else:\n",
    "                        spectral = SpectralClustering(\n",
    "                            n_clusters=k,\n",
    "                            affinity=affinity,\n",
    "                            assign_labels=assign_labels,\n",
    "                            eigen_solver=eigen_solver,\n",
    "                        )\n",
    "\n",
    "                        labels = spectral.fit_predict(data_X)\n",
    "\n",
    "                        results_spectral = get_metrics(data_X, data_y, labels, k, affinity, assign_labels, 'nan', eigen_solver)\n",
    "                        results.append(results_spectral)\n",
    "\n",
    "    results_df = pd.DataFrame(results)\n",
    "    return results_df"
   ],
   "outputs": [],
   "execution_count": 21
  },
  {
   "metadata": {
    "ExecuteTime": {
     "end_time": "2024-12-01T22:45:08.294446Z",
     "start_time": "2024-12-01T22:44:45.756912Z"
    }
   },
   "cell_type": "code",
   "source": [
    "df = pd.read_csv('../datasets_processed/grid.csv')\n",
    "df_X = np.array(df[df.columns[:-1]])\n",
    "df_y = np.array(df[df.columns[-1]])\n",
    "\n",
    "resultados = run_all_spectral_clustering(df_X, df_y)\n",
    "\n",
    "resultados.to_csv('../output/results_spectral_grid.csv')"
   ],
   "outputs": [],
   "execution_count": 24
  },
  {
   "metadata": {
    "ExecuteTime": {
     "end_time": "2024-12-01T22:47:45.831447Z",
     "start_time": "2024-12-01T22:45:08.294446Z"
    }
   },
   "cell_type": "code",
   "source": [
    "df = pd.read_csv('../datasets_processed/sick.csv')\n",
    "df_X = np.array(df[df.columns[:-1]])\n",
    "df_y = np.array(df[df.columns[-1]])\n",
    "\n",
    "resultados = run_all_spectral_clustering(df_X, df_y)\n",
    "\n",
    "resultados.to_csv('../output/results_spectral_sick.csv')"
   ],
   "outputs": [],
   "execution_count": 25
  },
  {
   "metadata": {
    "ExecuteTime": {
     "end_time": "2024-12-01T22:47:59.716404Z",
     "start_time": "2024-12-01T22:47:46.306142Z"
    }
   },
   "cell_type": "code",
   "source": [
    "df = pd.read_csv('../datasets_processed/vowel.csv')\n",
    "df_X = np.array(df[df.columns[:-1]])\n",
    "df_y = np.array(df[df.columns[-1]])\n",
    "\n",
    "resultados = run_all_spectral_clustering(df_X, df_y)\n",
    "\n",
    "resultados.to_csv('../output/results_spectral_vowel.csv')"
   ],
   "outputs": [
    {
     "name": "stderr",
     "output_type": "stream",
     "text": [
      "C:\\Users\\maja9\\anaconda3\\envs\\Clustering-Algorithms\\lib\\site-packages\\sklearn\\manifold\\_spectral_embedding.py:259: UserWarning: Graph is not fully connected, spectral embedding may not work as expected.\n",
      "  warnings.warn(\n",
      "C:\\Users\\maja9\\anaconda3\\envs\\Clustering-Algorithms\\lib\\site-packages\\sklearn\\manifold\\_spectral_embedding.py:259: UserWarning: Graph is not fully connected, spectral embedding may not work as expected.\n",
      "  warnings.warn(\n",
      "C:\\Users\\maja9\\anaconda3\\envs\\Clustering-Algorithms\\lib\\site-packages\\sklearn\\manifold\\_spectral_embedding.py:259: UserWarning: Graph is not fully connected, spectral embedding may not work as expected.\n",
      "  warnings.warn(\n",
      "C:\\Users\\maja9\\anaconda3\\envs\\Clustering-Algorithms\\lib\\site-packages\\sklearn\\manifold\\_spectral_embedding.py:259: UserWarning: Graph is not fully connected, spectral embedding may not work as expected.\n",
      "  warnings.warn(\n",
      "C:\\Users\\maja9\\anaconda3\\envs\\Clustering-Algorithms\\lib\\site-packages\\sklearn\\manifold\\_spectral_embedding.py:259: UserWarning: Graph is not fully connected, spectral embedding may not work as expected.\n",
      "  warnings.warn(\n",
      "C:\\Users\\maja9\\anaconda3\\envs\\Clustering-Algorithms\\lib\\site-packages\\sklearn\\manifold\\_spectral_embedding.py:259: UserWarning: Graph is not fully connected, spectral embedding may not work as expected.\n",
      "  warnings.warn(\n",
      "C:\\Users\\maja9\\anaconda3\\envs\\Clustering-Algorithms\\lib\\site-packages\\sklearn\\manifold\\_spectral_embedding.py:259: UserWarning: Graph is not fully connected, spectral embedding may not work as expected.\n",
      "  warnings.warn(\n",
      "C:\\Users\\maja9\\anaconda3\\envs\\Clustering-Algorithms\\lib\\site-packages\\sklearn\\manifold\\_spectral_embedding.py:259: UserWarning: Graph is not fully connected, spectral embedding may not work as expected.\n",
      "  warnings.warn(\n",
      "C:\\Users\\maja9\\anaconda3\\envs\\Clustering-Algorithms\\lib\\site-packages\\sklearn\\manifold\\_spectral_embedding.py:259: UserWarning: Graph is not fully connected, spectral embedding may not work as expected.\n",
      "  warnings.warn(\n",
      "C:\\Users\\maja9\\anaconda3\\envs\\Clustering-Algorithms\\lib\\site-packages\\sklearn\\manifold\\_spectral_embedding.py:259: UserWarning: Graph is not fully connected, spectral embedding may not work as expected.\n",
      "  warnings.warn(\n",
      "C:\\Users\\maja9\\anaconda3\\envs\\Clustering-Algorithms\\lib\\site-packages\\sklearn\\manifold\\_spectral_embedding.py:259: UserWarning: Graph is not fully connected, spectral embedding may not work as expected.\n",
      "  warnings.warn(\n",
      "C:\\Users\\maja9\\anaconda3\\envs\\Clustering-Algorithms\\lib\\site-packages\\sklearn\\manifold\\_spectral_embedding.py:259: UserWarning: Graph is not fully connected, spectral embedding may not work as expected.\n",
      "  warnings.warn(\n",
      "C:\\Users\\maja9\\anaconda3\\envs\\Clustering-Algorithms\\lib\\site-packages\\sklearn\\manifold\\_spectral_embedding.py:259: UserWarning: Graph is not fully connected, spectral embedding may not work as expected.\n",
      "  warnings.warn(\n",
      "C:\\Users\\maja9\\anaconda3\\envs\\Clustering-Algorithms\\lib\\site-packages\\sklearn\\manifold\\_spectral_embedding.py:259: UserWarning: Graph is not fully connected, spectral embedding may not work as expected.\n",
      "  warnings.warn(\n",
      "C:\\Users\\maja9\\anaconda3\\envs\\Clustering-Algorithms\\lib\\site-packages\\sklearn\\manifold\\_spectral_embedding.py:259: UserWarning: Graph is not fully connected, spectral embedding may not work as expected.\n",
      "  warnings.warn(\n",
      "C:\\Users\\maja9\\anaconda3\\envs\\Clustering-Algorithms\\lib\\site-packages\\sklearn\\manifold\\_spectral_embedding.py:259: UserWarning: Graph is not fully connected, spectral embedding may not work as expected.\n",
      "  warnings.warn(\n",
      "C:\\Users\\maja9\\anaconda3\\envs\\Clustering-Algorithms\\lib\\site-packages\\sklearn\\manifold\\_spectral_embedding.py:259: UserWarning: Graph is not fully connected, spectral embedding may not work as expected.\n",
      "  warnings.warn(\n",
      "C:\\Users\\maja9\\anaconda3\\envs\\Clustering-Algorithms\\lib\\site-packages\\sklearn\\manifold\\_spectral_embedding.py:259: UserWarning: Graph is not fully connected, spectral embedding may not work as expected.\n",
      "  warnings.warn(\n",
      "C:\\Users\\maja9\\anaconda3\\envs\\Clustering-Algorithms\\lib\\site-packages\\sklearn\\manifold\\_spectral_embedding.py:259: UserWarning: Graph is not fully connected, spectral embedding may not work as expected.\n",
      "  warnings.warn(\n",
      "C:\\Users\\maja9\\anaconda3\\envs\\Clustering-Algorithms\\lib\\site-packages\\sklearn\\manifold\\_spectral_embedding.py:259: UserWarning: Graph is not fully connected, spectral embedding may not work as expected.\n",
      "  warnings.warn(\n",
      "C:\\Users\\maja9\\anaconda3\\envs\\Clustering-Algorithms\\lib\\site-packages\\sklearn\\manifold\\_spectral_embedding.py:259: UserWarning: Graph is not fully connected, spectral embedding may not work as expected.\n",
      "  warnings.warn(\n",
      "C:\\Users\\maja9\\anaconda3\\envs\\Clustering-Algorithms\\lib\\site-packages\\sklearn\\manifold\\_spectral_embedding.py:259: UserWarning: Graph is not fully connected, spectral embedding may not work as expected.\n",
      "  warnings.warn(\n",
      "C:\\Users\\maja9\\anaconda3\\envs\\Clustering-Algorithms\\lib\\site-packages\\sklearn\\manifold\\_spectral_embedding.py:259: UserWarning: Graph is not fully connected, spectral embedding may not work as expected.\n",
      "  warnings.warn(\n",
      "C:\\Users\\maja9\\anaconda3\\envs\\Clustering-Algorithms\\lib\\site-packages\\sklearn\\manifold\\_spectral_embedding.py:259: UserWarning: Graph is not fully connected, spectral embedding may not work as expected.\n",
      "  warnings.warn(\n"
     ]
    }
   ],
   "execution_count": 26
  }
 ],
 "metadata": {
  "kernelspec": {
   "display_name": "base",
   "language": "python",
   "name": "python3"
  },
  "language_info": {
   "codemirror_mode": {
    "name": "ipython",
    "version": 3
   },
   "file_extension": ".py",
   "mimetype": "text/x-python",
   "name": "python",
   "nbconvert_exporter": "python",
   "pygments_lexer": "ipython3",
   "version": "3.8.12"
  }
 },
 "nbformat": 4,
 "nbformat_minor": 2
}
